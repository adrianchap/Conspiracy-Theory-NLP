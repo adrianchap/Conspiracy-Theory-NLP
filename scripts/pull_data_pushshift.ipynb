{
 "cells": [
  {
   "cell_type": "code",
   "execution_count": null,
   "metadata": {},
   "outputs": [],
   "source": [
    "import requests\n",
    "import pandas as pd\n",
    "import json\n",
    "import time"
   ]
  },
  {
   "cell_type": "markdown",
   "metadata": {},
   "source": [
    "# Pull Reddit Posts"
   ]
  },
  {
   "cell_type": "markdown",
   "metadata": {},
   "source": [
    "This function takes in arguments for:\n",
    "- subreddit: a string indicating the subreddit to pull from\n",
    "- num_comments: a string containing a conditional to filter by the number of comments the post has\n",
    "- before: an integer representing a date time epoch (pulls posts from before this date)\n",
    "- after: an integer representing a date time epoch (pulls posts from after this date)\n",
    "\n",
    "The function should crawl through posts in the specified subreddit between the date range specified.\n",
    "\n",
    "Please refer to the [pushshift API documentation](https://github.com/pushshift/api).\n",
    "\n",
    "You can also use [this resource](https://www.epochconverter.com/) to convert dates and times into epochs."
   ]
  },
  {
   "cell_type": "code",
   "execution_count": null,
   "metadata": {},
   "outputs": [],
   "source": [
    "def get_sub_data(subreddit, num_comments, before, after):\n",
    "    all_posts = []\n",
    "    count = 0\n",
    "    url = \"https://api.pushshift.io/reddit/search/submission\"\n",
    "    while before != None:\n",
    "        params = {\n",
    "        'subreddit': subreddit,\n",
    "        'size': 100,\n",
    "        'num_comments': num_comments,\n",
    "        'before': before,\n",
    "        'after': after}\n",
    "        res = requests.get(url, params)\n",
    "        try:\n",
    "            data = res.json()\n",
    "        except Exception:\n",
    "            print(\"Failed to parse:\")\n",
    "            print(res.content)\n",
    "        posts = data['data']\n",
    "        if len(posts) > 0:\n",
    "            for j in posts:\n",
    "                all_posts.append(j)\n",
    "            before = posts[-1]['created_utc']\n",
    "            count += len(posts)\n",
    "            print(f'Total number of posts: {count}')\n",
    "            time.sleep(2)\n",
    "        else:\n",
    "            before = None\n",
    "    print(before)\n",
    "    return all_posts\n",
    "\n",
    "\n"
   ]
  },
  {
   "cell_type": "code",
   "execution_count": null,
   "metadata": {},
   "outputs": [],
   "source": [
    "all_posts = get_sub_data('conspiracy', '>49', 1606824000, 1577880000)\n"
   ]
  },
  {
   "cell_type": "code",
   "execution_count": null,
   "metadata": {},
   "outputs": [],
   "source": [
    "df = pd.DataFrame(all_posts2)\n",
    "df.head()"
   ]
  },
  {
   "cell_type": "code",
   "execution_count": null,
   "metadata": {},
   "outputs": [],
   "source": [
    "df.to_csv('../data/conspiracy_2020.csv')"
   ]
  },
  {
   "cell_type": "code",
   "execution_count": null,
   "metadata": {},
   "outputs": [],
   "source": []
  },
  {
   "cell_type": "code",
   "execution_count": null,
   "metadata": {},
   "outputs": [],
   "source": []
  }
 ],
 "metadata": {
  "kernelspec": {
   "display_name": "Python 3",
   "language": "python",
   "name": "python3"
  },
  "language_info": {
   "codemirror_mode": {
    "name": "ipython",
    "version": 3
   },
   "file_extension": ".py",
   "mimetype": "text/x-python",
   "name": "python",
   "nbconvert_exporter": "python",
   "pygments_lexer": "ipython3",
   "version": "3.8.5"
  }
 },
 "nbformat": 4,
 "nbformat_minor": 4
}
