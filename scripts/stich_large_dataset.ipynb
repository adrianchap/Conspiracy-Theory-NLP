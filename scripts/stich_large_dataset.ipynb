{
 "cells": [
  {
   "cell_type": "code",
   "execution_count": 50,
   "metadata": {},
   "outputs": [],
   "source": [
    "import pandas as pd"
   ]
  },
  {
   "cell_type": "markdown",
   "metadata": {},
   "source": [
    "# Combine all datasets into one"
   ]
  },
  {
   "cell_type": "code",
   "execution_count": 51,
   "metadata": {},
   "outputs": [],
   "source": [
    "# read in all data files (google bigquery only lets you download so much at a time)\n",
    "df_16 = pd.read_csv('./data/conspiracy_2016.csv')\n",
    "df_17 = pd.read_csv('./data/conspiracy_2017.csv')\n",
    "df_18 = pd.read_csv('./data/conspiracy_2018.csv')\n",
    "df_19 = pd.read_csv('./data/conspiracy_2019.csv')\n",
    "df_20 = pd.read_csv('./data/conspiracy_2020.csv')\n"
   ]
  },
  {
   "cell_type": "code",
   "execution_count": 59,
   "metadata": {},
   "outputs": [],
   "source": [
    "# concatinate dataframes\n",
    "df_all = pd.concat([df_16, df_17, df_18, df_19])"
   ]
  },
  {
   "cell_type": "code",
   "execution_count": 22,
   "metadata": {},
   "outputs": [
    {
     "data": {
      "text/html": [
       "<div>\n",
       "<style scoped>\n",
       "    .dataframe tbody tr th:only-of-type {\n",
       "        vertical-align: middle;\n",
       "    }\n",
       "\n",
       "    .dataframe tbody tr th {\n",
       "        vertical-align: top;\n",
       "    }\n",
       "\n",
       "    .dataframe thead th {\n",
       "        text-align: right;\n",
       "    }\n",
       "</style>\n",
       "<table border=\"1\" class=\"dataframe\">\n",
       "  <thead>\n",
       "    <tr style=\"text-align: right;\">\n",
       "      <th></th>\n",
       "      <th>title</th>\n",
       "      <th>num_comments</th>\n",
       "      <th>score</th>\n",
       "      <th>created_utc</th>\n",
       "    </tr>\n",
       "  </thead>\n",
       "  <tbody>\n",
       "    <tr>\n",
       "      <th>0</th>\n",
       "      <td>Apollo conspiracy theorists will tell you this...</td>\n",
       "      <td>180</td>\n",
       "      <td>22</td>\n",
       "      <td>1472376754</td>\n",
       "    </tr>\n",
       "    <tr>\n",
       "      <th>1</th>\n",
       "      <td>Media Worried Too Many Americans Will Question...</td>\n",
       "      <td>103</td>\n",
       "      <td>475</td>\n",
       "      <td>1472042001</td>\n",
       "    </tr>\n",
       "    <tr>\n",
       "      <th>2</th>\n",
       "      <td>It's official. Julian Assange: Google is direc...</td>\n",
       "      <td>202</td>\n",
       "      <td>3291</td>\n",
       "      <td>1471014496</td>\n",
       "    </tr>\n",
       "    <tr>\n",
       "      <th>3</th>\n",
       "      <td>Major Physics Magazine, Europhysics News, Publ...</td>\n",
       "      <td>107</td>\n",
       "      <td>424</td>\n",
       "      <td>1472513970</td>\n",
       "    </tr>\n",
       "    <tr>\n",
       "      <th>4</th>\n",
       "      <td>Meanwhile on CNN... (Removed from /r/funny, ru...</td>\n",
       "      <td>110</td>\n",
       "      <td>2152</td>\n",
       "      <td>1470263579</td>\n",
       "    </tr>\n",
       "  </tbody>\n",
       "</table>\n",
       "</div>"
      ],
      "text/plain": [
       "                                               title  num_comments  score  \\\n",
       "0  Apollo conspiracy theorists will tell you this...           180     22   \n",
       "1  Media Worried Too Many Americans Will Question...           103    475   \n",
       "2  It's official. Julian Assange: Google is direc...           202   3291   \n",
       "3  Major Physics Magazine, Europhysics News, Publ...           107    424   \n",
       "4  Meanwhile on CNN... (Removed from /r/funny, ru...           110   2152   \n",
       "\n",
       "   created_utc  \n",
       "0   1472376754  \n",
       "1   1472042001  \n",
       "2   1471014496  \n",
       "3   1472513970  \n",
       "4   1470263579  "
      ]
     },
     "execution_count": 22,
     "metadata": {},
     "output_type": "execute_result"
    }
   ],
   "source": [
    "df_all.head()"
   ]
  },
  {
   "cell_type": "code",
   "execution_count": 32,
   "metadata": {},
   "outputs": [],
   "source": [
    "# drop any duplicate rows\n",
    "df_all.drop_duplicates(inplace=True)"
   ]
  },
  {
   "cell_type": "code",
   "execution_count": 33,
   "metadata": {},
   "outputs": [
    {
     "data": {
      "text/plain": [
       "(31519, 4)"
      ]
     },
     "execution_count": 33,
     "metadata": {},
     "output_type": "execute_result"
    }
   ],
   "source": [
    "df_all.shape"
   ]
  },
  {
   "cell_type": "code",
   "execution_count": 35,
   "metadata": {},
   "outputs": [],
   "source": [
    "df_all.to_csv('../data/conspiracy_all.csv', index=False)"
   ]
  },
  {
   "cell_type": "code",
   "execution_count": null,
   "metadata": {},
   "outputs": [],
   "source": []
  }
 ],
 "metadata": {
  "kernelspec": {
   "display_name": "Python 3",
   "language": "python",
   "name": "python3"
  },
  "language_info": {
   "codemirror_mode": {
    "name": "ipython",
    "version": 3
   },
   "file_extension": ".py",
   "mimetype": "text/x-python",
   "name": "python",
   "nbconvert_exporter": "python",
   "pygments_lexer": "ipython3",
   "version": "3.8.5"
  }
 },
 "nbformat": 4,
 "nbformat_minor": 4
}
