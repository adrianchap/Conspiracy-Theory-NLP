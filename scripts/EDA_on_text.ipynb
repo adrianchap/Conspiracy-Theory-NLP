{
 "cells": [
  {
   "cell_type": "code",
   "execution_count": 2,
   "metadata": {},
   "outputs": [],
   "source": [
    "import numpy as np\n",
    "import pandas as pd\n",
    "import matplotlib.pyplot as plt\n",
    "import seaborn as sns\n",
    "\n",
    "from sklearn.feature_extraction.text import CountVectorizer"
   ]
  },
  {
   "cell_type": "markdown",
   "metadata": {},
   "source": [
    "# Basic EDA using CountVectorizer"
   ]
  },
  {
   "cell_type": "code",
   "execution_count": 3,
   "metadata": {},
   "outputs": [],
   "source": [
    "df = pd.read_csv('../data/conspiracy_all.csv')"
   ]
  },
  {
   "cell_type": "code",
   "execution_count": 4,
   "metadata": {},
   "outputs": [
    {
     "data": {
      "text/html": [
       "<div>\n",
       "<style scoped>\n",
       "    .dataframe tbody tr th:only-of-type {\n",
       "        vertical-align: middle;\n",
       "    }\n",
       "\n",
       "    .dataframe tbody tr th {\n",
       "        vertical-align: top;\n",
       "    }\n",
       "\n",
       "    .dataframe thead th {\n",
       "        text-align: right;\n",
       "    }\n",
       "</style>\n",
       "<table border=\"1\" class=\"dataframe\">\n",
       "  <thead>\n",
       "    <tr style=\"text-align: right;\">\n",
       "      <th></th>\n",
       "      <th>title</th>\n",
       "      <th>num_comments</th>\n",
       "      <th>score</th>\n",
       "      <th>created_utc</th>\n",
       "    </tr>\n",
       "  </thead>\n",
       "  <tbody>\n",
       "    <tr>\n",
       "      <th>0</th>\n",
       "      <td>Apollo conspiracy theorists will tell you this...</td>\n",
       "      <td>180</td>\n",
       "      <td>22</td>\n",
       "      <td>1472376754</td>\n",
       "    </tr>\n",
       "    <tr>\n",
       "      <th>1</th>\n",
       "      <td>Media Worried Too Many Americans Will Question...</td>\n",
       "      <td>103</td>\n",
       "      <td>475</td>\n",
       "      <td>1472042001</td>\n",
       "    </tr>\n",
       "    <tr>\n",
       "      <th>2</th>\n",
       "      <td>It's official. Julian Assange: Google is direc...</td>\n",
       "      <td>202</td>\n",
       "      <td>3291</td>\n",
       "      <td>1471014496</td>\n",
       "    </tr>\n",
       "    <tr>\n",
       "      <th>3</th>\n",
       "      <td>Major Physics Magazine, Europhysics News, Publ...</td>\n",
       "      <td>107</td>\n",
       "      <td>424</td>\n",
       "      <td>1472513970</td>\n",
       "    </tr>\n",
       "    <tr>\n",
       "      <th>4</th>\n",
       "      <td>Meanwhile on CNN... (Removed from /r/funny, ru...</td>\n",
       "      <td>110</td>\n",
       "      <td>2152</td>\n",
       "      <td>1470263579</td>\n",
       "    </tr>\n",
       "  </tbody>\n",
       "</table>\n",
       "</div>"
      ],
      "text/plain": [
       "                                               title  num_comments  score  \\\n",
       "0  Apollo conspiracy theorists will tell you this...           180     22   \n",
       "1  Media Worried Too Many Americans Will Question...           103    475   \n",
       "2  It's official. Julian Assange: Google is direc...           202   3291   \n",
       "3  Major Physics Magazine, Europhysics News, Publ...           107    424   \n",
       "4  Meanwhile on CNN... (Removed from /r/funny, ru...           110   2152   \n",
       "\n",
       "   created_utc  \n",
       "0   1472376754  \n",
       "1   1472042001  \n",
       "2   1471014496  \n",
       "3   1472513970  \n",
       "4   1470263579  "
      ]
     },
     "execution_count": 4,
     "metadata": {},
     "output_type": "execute_result"
    }
   ],
   "source": [
    "df.head()"
   ]
  },
  {
   "cell_type": "code",
   "execution_count": 5,
   "metadata": {},
   "outputs": [],
   "source": [
    "# convert epoch to datetime\n",
    "df.created_utc = df.created_utc.astype(\"datetime64[s]\")"
   ]
  },
  {
   "cell_type": "code",
   "execution_count": 6,
   "metadata": {},
   "outputs": [],
   "source": [
    "# create a column for year\n",
    "df['year'] = pd.DatetimeIndex(df['created_utc']).year"
   ]
  },
  {
   "cell_type": "code",
   "execution_count": 39,
   "metadata": {},
   "outputs": [
    {
     "data": {
      "text/plain": [
       "<AxesSubplot:xlabel='year'>"
      ]
     },
     "execution_count": 39,
     "metadata": {},
     "output_type": "execute_result"
    },
    {
     "data": {
      "image/png": "[encoded data removed]",
      "text/plain": [
       "<Figure size 432x288 with 1 Axes>"
      ]
     },
     "metadata": {
      "needs_background": "light"
     },
     "output_type": "display_data"
    }
   ],
   "source": [
    "# plot the number of posts per year\n",
    "df.groupby('year').title.count().plot(kind= 'bar', color = 'lightskyblue')"
   ]
  },
  {
   "cell_type": "markdown",
   "metadata": {},
   "source": [
    "# Count Vectorizer"
   ]
  },
  {
   "cell_type": "code",
   "execution_count": 33,
   "metadata": {},
   "outputs": [],
   "source": [
    "# instantiate CountVectorizer.\n",
    "cvec = CountVectorizer(stop_words = 'english', min_df=3, ngram_range=(1, 1))"
   ]
  },
  {
   "cell_type": "code",
   "execution_count": 34,
   "metadata": {},
   "outputs": [
    {
     "data": {
      "text/plain": [
       "CountVectorizer(min_df=3, stop_words='english')"
      ]
     },
     "execution_count": 34,
     "metadata": {},
     "output_type": "execute_result"
    }
   ],
   "source": [
    "# fit countvec on title column\n",
    "cvec.fit(df['title'])"
   ]
  },
  {
   "cell_type": "code",
   "execution_count": 35,
   "metadata": {},
   "outputs": [],
   "source": [
    "# Transform the features\n",
    "feature_transform = cvec.transform(df['title'])"
   ]
  },
  {
   "cell_type": "code",
   "execution_count": 36,
   "metadata": {},
   "outputs": [],
   "source": [
    "# Create a dataframe with the transformed feature data\n",
    "feature_transform_df = pd.DataFrame(feature_transform.todense(), \n",
    "                          columns=cvec.get_feature_names())\n"
   ]
  },
  {
   "cell_type": "code",
   "execution_count": 37,
   "metadata": {},
   "outputs": [
    {
     "data": {
      "text/plain": [
       "trump         3218\n",
       "conspiracy    2049\n",
       "people        1851\n",
       "just          1715\n",
       "clinton       1247\n",
       "new           1116\n",
       "like          1020\n",
       "hillary       1018\n",
       "media          928\n",
       "news           872\n",
       "reddit         840\n",
       "world          837\n",
       "11             809\n",
       "government     793\n",
       "video          776\n",
       "don            759\n",
       "think          758\n",
       "right          754\n",
       "fbi            739\n",
       "time           727\n",
       "did            724\n",
       "sub            714\n",
       "russia         703\n",
       "cia            692\n",
       "post           684\n",
       "know           680\n",
       "years          670\n",
       "says           665\n",
       "going          665\n",
       "pizzagate      646\n",
       "real           634\n",
       "does           629\n",
       "earth          623\n",
       "white          617\n",
       "year           602\n",
       "evidence       582\n",
       "president      570\n",
       "child          567\n",
       "fake           564\n",
       "believe        564\n",
       "war            561\n",
       "epstein        548\n",
       "israel         532\n",
       "000            528\n",
       "state          526\n",
       "wikileaks      524\n",
       "anti           524\n",
       "obama          519\n",
       "shooting       516\n",
       "russian        498\n",
       "dtype: int64"
      ]
     },
     "execution_count": 37,
     "metadata": {},
     "output_type": "execute_result"
    }
   ],
   "source": [
    "# Look at the top occuring words\n",
    "feature_transform_df.sum().sort_values(ascending = False).head(50)"
   ]
  },
  {
   "cell_type": "code",
   "execution_count": 38,
   "metadata": {},
   "outputs": [
    {
     "data": {
      "text/plain": [
       "<AxesSubplot:>"
      ]
     },
     "execution_count": 38,
     "metadata": {},
     "output_type": "execute_result"
    },
    {
     "data": {
      "image/png": "[encoded data removed]",
      "text/plain": [
       "<Figure size 432x288 with 1 Axes>"
      ]
     },
     "metadata": {
      "needs_background": "light"
     },
     "output_type": "display_data"
    }
   ],
   "source": [
    "# Plot top occuring words\n",
    "feature_transform_df.sum().sort_values(ascending = False).head(20).plot(kind= 'barh', color = 'lightskyblue')"
   ]
  }
 ],
 "metadata": {
  "kernelspec": {
   "display_name": "Python 3",
   "language": "python",
   "name": "python3"
  },
  "language_info": {
   "codemirror_mode": {
    "name": "ipython",
    "version": 3
   },
   "file_extension": ".py",
   "mimetype": "text/x-python",
   "name": "python",
   "nbconvert_exporter": "python",
   "pygments_lexer": "ipython3",
   "version": "3.8.5"
  }
 },
 "nbformat": 4,
 "nbformat_minor": 4
}
